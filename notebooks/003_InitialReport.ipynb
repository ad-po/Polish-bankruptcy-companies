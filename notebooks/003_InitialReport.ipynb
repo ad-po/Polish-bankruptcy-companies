{
 "cells": [
  {
   "cell_type": "code",
   "execution_count": null,
   "metadata": {},
   "outputs": [],
   "source": [
    "from scipy.io import arff\n",
    "import pandas as pd\n",
    "from ydata_profiling import ProfileReport"
   ]
  },
  {
   "attachments": {},
   "cell_type": "markdown",
   "metadata": {},
   "source": [
    "Generating Report"
   ]
  },
  {
   "cell_type": "code",
   "execution_count": null,
   "metadata": {},
   "outputs": [],
   "source": [
    "raw_data_url = 'https://archive.ics.uci.edu/ml/machine-learning-databases/00365/data.zip'\n",
    "raw_data_file = 'data.zip'\n",
    "raw_data_path = '../data/01_raw/'"
   ]
  },
  {
   "cell_type": "code",
   "execution_count": null,
   "metadata": {},
   "outputs": [],
   "source": [
    "data1year = arff.loadarff(raw_data_path + \"1year.arff\")\n",
    "\n",
    "df = pd.DataFrame(data1year[0])"
   ]
  },
  {
   "cell_type": "code",
   "execution_count": null,
   "metadata": {},
   "outputs": [],
   "source": [
    "# Generate the ProfileReport\n",
    "profile = ProfileReport(df, title=\"Pandas Profiling Report\", minimal=True)"
   ]
  }
 ],
 "metadata": {
  "language_info": {
   "name": "python"
  },
  "orig_nbformat": 4
 },
 "nbformat": 4,
 "nbformat_minor": 2
}
