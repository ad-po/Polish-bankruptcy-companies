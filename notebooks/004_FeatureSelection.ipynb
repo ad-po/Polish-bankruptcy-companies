{
 "cells": [
  {
   "cell_type": "code",
   "execution_count": 1,
   "metadata": {},
   "outputs": [],
   "source": [
    "from scipy.io import arff\n",
    "import pandas as pd\n",
    "import matplotlib.pyplot as plt\n",
    "\n",
    "from xgboost import XGBClassifier\n",
    "from sklearn.model_selection import train_test_split\n",
    "from sklearn.metrics import accuracy_score"
   ]
  },
  {
   "cell_type": "code",
   "execution_count": 2,
   "metadata": {},
   "outputs": [],
   "source": [
    "raw_data_file = '1year.arff'\n",
    "raw_data_path = '../data/01_raw/'"
   ]
  },
  {
   "attachments": {},
   "cell_type": "markdown",
   "metadata": {},
   "source": [
    "Notes\n"
   ]
  },
  {
   "cell_type": "code",
   "execution_count": null,
   "metadata": {},
   "outputs": [],
   "source": [
    "# #Loading the dataset\n",
    "# x = load_boston()\n",
    "# df = pd.DataFrame(x.data, columns = x.feature_names)\n",
    "# df[\"MEDV\"] = x.target\n",
    "# X = df.drop(\"MEDV\",1)   #Feature Matrix\n",
    "# y = df[\"MEDV\"]          #Target Variable\n",
    "# df.head()"
   ]
  },
  {
   "attachments": {},
   "cell_type": "markdown",
   "metadata": {},
   "source": [
    "Gradient Boosting za pomocą implementacji XGBoost mógłby być dobrym wyborem. XGBoost jest znany ze swojej wydajności w wielu problemach klasyfikacyjnych, a także z możliwości obsługi dużych zestawów danych z wieloma cechami. Dodatkowo, XGBoost ma wbudowane mechanizmy do obsługi brakujących danych, co może być przydatne, jeśli te dane zawierają brakujące wartości.\n",
    "\n",
    "Pamiętaj, że najważniejsze jest przeprowadzenie odpowiedniego przetwarzania wstępnego danych i dostosowanie hiperparametrów modelu. Również zawsze warto przetestować kilka różnych modeli, aby zobaczyć, który działa najlepiej na danym zestawie danych."
   ]
  },
  {
   "cell_type": "code",
   "execution_count": null,
   "metadata": {},
   "outputs": [],
   "source": [
    "data = arff.loadarff(raw_data_path + raw_data_file)\n"
   ]
  }
 ],
 "metadata": {
  "kernelspec": {
   "display_name": "venv",
   "language": "python",
   "name": "python3"
  },
  "language_info": {
   "codemirror_mode": {
    "name": "ipython",
    "version": 3
   },
   "file_extension": ".py",
   "mimetype": "text/x-python",
   "name": "python",
   "nbconvert_exporter": "python",
   "pygments_lexer": "ipython3",
   "version": "3.11.2"
  },
  "orig_nbformat": 4
 },
 "nbformat": 4,
 "nbformat_minor": 2
}
